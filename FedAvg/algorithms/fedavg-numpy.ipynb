{
 "cells": [
  {
   "cell_type": "code",
   "execution_count": 1,
   "id": "7be0ad38",
   "metadata": {},
   "outputs": [
    {
     "name": "stderr",
     "output_type": "stream",
     "text": [
      "d:\\Anaconda\\envs\\torchgpu\\lib\\site-packages\\tqdm\\auto.py:22: TqdmWarning: IProgress not found. Please update jupyter and ipywidgets. See https://ipywidgets.readthedocs.io/en/stable/user_install.html\n",
      "  from .autonotebook import tqdm as notebook_tqdm\n"
     ]
    }
   ],
   "source": [
    "import numpy as np\n",
    "import random\n",
    "import copy\n",
    "import sys\n",
    "\n",
    "sys.path.append('../')\n",
    "from algorithms.bp_nn import train, test\n",
    "from models import BP \n",
    "from args import args_parser  # 一些传入参数，见args.py\n",
    "\n",
    "import os\n",
    "os.environ['TF_CPP_MIN_LOG_LEVEL'] = '2' # 只看error\n",
    "\n",
    "\n",
    "#-----------------自增\n",
    "import tensorflow as tf"
   ]
  },
  {
   "cell_type": "code",
   "execution_count": 2,
   "id": "c35f282e",
   "metadata": {},
   "outputs": [],
   "source": [
    "clients_wind = ['Task1_W_Zone' + str(i) for i in range(1, 11)]"
   ]
  },
  {
   "cell_type": "code",
   "execution_count": 3,
   "id": "01f30673",
   "metadata": {},
   "outputs": [
    {
     "data": {
      "text/plain": [
       "'\\nL1损失函数: mae\\n均方根误差: rmse\\nhttps://blog.csdn.net/qq_45758854/article/details/125807544\\n'"
      ]
     },
     "execution_count": 3,
     "metadata": {},
     "output_type": "execute_result"
    }
   ],
   "source": [
    "# Implementation for FedAvg by numpy. 通过numpy实现FedAvg。\n",
    "class FedAvg:\n",
    "    def __init__(self, args): #self 默认必须参数，有类中全局变量之效，args表示，调用FedAvg时，必须传入的参数\n",
    "        self.args = args\n",
    "        self.clients = args.clients\n",
    "        self.nn = BP(args=args, file_name='server') # BP是models中的一个类，同样需要传入参数。file_name方便后面为每个客户端取名\n",
    "        self.nns = []\n",
    "        # distribution\n",
    "        for i in range(self.args.K): #args.K，客户端总数； 子程序为每一个客户端构造了一个BP类\n",
    "            #copy.deepcopy() 深复制的用法是将某个变量的值赋给另一个变量(此时两个变量地址不同)，因为地址不同，所以变量间互不干扰\n",
    "            s = copy.deepcopy(self.nn)  \n",
    "            s.file_name = self.clients[i]\n",
    "            self.nns.append(s)\n",
    "\n",
    "    def server(self):\n",
    "        for t in range(self.args.r): #通信回合数，即本地模型上传下载全局模型次数\n",
    "            print('round', t + 1, ':') # 输出：round1、round2、round3、round4、round5\n",
    "#             m = np.max([int(self.args.C * self.args.K), 1]) # 抽样率*客户端总数，即每一轮参与训练的客户端数量，至少有1个客户端参与\n",
    "            m = 5\n",
    "            print(m)\n",
    "            # sampling\n",
    "            index = random.sample(range(0, self.args.K), m) #在0-（k-1）之间共k个中抽取m个序号，注意是序号/索引\n",
    "            print(len(index))\n",
    "            # dispatch\n",
    "            self.dispatch(index) # 下面定义了dispatch函数：抽中的m本地客户端从服务端下载4个参数\n",
    "            # local updating\n",
    "            self.client_update(index) # 下面定义了client_update函数：抽中的m个客户端进行本地训练\n",
    "            # aggregation\n",
    "            self.aggregation(index) # 下面定义了aggregation函数：抽中的m个客户端，上传本地训练结果参数\n",
    "\n",
    "        # return global model\n",
    "        return self.nn #返回最终聚合后的模型\n",
    "\n",
    "    def aggregation(self, index):\n",
    "        # update w\n",
    "        s = 0 #用来计一轮抽中的m个本地客户端总的样本数\n",
    "        for j in index:\n",
    "            # normal\n",
    "            s += self.nns[j].len\n",
    "        w1 = np.zeros_like(self.nn.w1) #np.zeros_like：生成和self.nn.w1一样的零阵，下同\n",
    "        w2 = np.zeros_like(self.nn.w2)\n",
    "        w3 = np.zeros_like(self.nn.w3)\n",
    "        w4 = np.zeros_like(self.nn.w4)\n",
    "        \n",
    "        #-----------------自增1018\n",
    "        nois = 0.05\n",
    "        for j in index: # 对上传的每一个本地模型进行权重的加权求和，权重为该客户端样本数/该轮中参与训练的总样本数\n",
    "            # normal\n",
    "            w1 += self.nns[j].w1 * (self.nns[j].len / s) + tf.random.normal([1],mean=0, stddev=nois).numpy()\n",
    "            w2 += self.nns[j].w2 * (self.nns[j].len / s) + tf.random.normal([1],mean=0, stddev=nois).numpy()\n",
    "            w3 += self.nns[j].w3 * (self.nns[j].len / s) + tf.random.normal([1],mean=0, stddev=nois).numpy()\n",
    "            w4 += self.nns[j].w4 * (self.nns[j].len / s) + tf.random.normal([1],mean=0, stddev=nois).numpy()\n",
    "        # update server 更新服务端参数\n",
    "        self.nn.w1, self.nn.w2, self.nn.w3, self.nn.w4 = w1, w2, w3, w4\n",
    "\n",
    "    def dispatch(self, index):\n",
    "        # distribute\n",
    "        for i in index:\n",
    "            self.nns[i].w1, self.nns[i].w2, self.nns[i].w3, self.nns[i].w4 = self.nn.w1, self.nn.w2, self.nn.w3, self.nn.w4\n",
    "\n",
    "    def client_update(self, index):  # update nn\n",
    "        for k in index:\n",
    "            self.nns[k] = train(self.args, self.nns[k])\n",
    "\n",
    "    def global_test(self):\n",
    "        model = self.nn #最终聚合后的模型\n",
    "        c = clients_wind  # 10个客户端名称 Task1_W_Zone1、Task1_W_Zone2、Task1_W_Zone3...Task1_W_Zone10\n",
    "        for client in c:\n",
    "            print(client)\n",
    "            model.file_name = client \n",
    "            test(self.args, model)\n",
    "\n",
    "'''\n",
    "L1损失函数: mae\n",
    "均方根误差: rmse\n",
    "https://blog.csdn.net/qq_45758854/article/details/125807544\n",
    "'''\n"
   ]
  },
  {
   "cell_type": "code",
   "execution_count": 11,
   "id": "9bd35478",
   "metadata": {},
   "outputs": [],
   "source": [
    "def main():\n",
    "    args = args_parser()\n",
    "    fed = FedAvg(args)\n",
    "    fed.server()\n",
    "    fed.global_test()"
   ]
  },
  {
   "cell_type": "code",
   "execution_count": 12,
   "id": "fd1a71e9",
   "metadata": {},
   "outputs": [
    {
     "name": "stderr",
     "output_type": "stream",
     "text": [
      "f:\\毕设\\实现代码\\FedAvg\\algorithms\\..\\algorithms\\bp_nn.py:31: FutureWarning: The default value of numeric_only in DataFrame.mean is deprecated. In a future version, it will default to False. In addition, specifying 'numeric_only=None' is deprecated. Select only valid columns or specify the value of numeric_only to silence this warning.\n",
      "  df.fillna(df.mean(), inplace=True)\n"
     ]
    },
    {
     "name": "stdout",
     "output_type": "stream",
     "text": [
      "round 1 :\n",
      "5\n",
      "5\n",
      "training...\n",
      "data processing...\n"
     ]
    },
    {
     "name": "stderr",
     "output_type": "stream",
     "text": [
      " 50%|█████     | 10/20 [00:00<00:00, 97.39it/s]"
     ]
    },
    {
     "name": "stdout",
     "output_type": "stream",
     "text": [
      "epoch 000 train_loss 0.04723363 val_loss 0.05396853\n",
      "epoch 001 train_loss 0.01823816 val_loss 0.02304931\n",
      "epoch 002 train_loss 0.01088168 val_loss 0.01920568\n",
      "epoch 003 train_loss 0.00869157 val_loss 0.01744089\n",
      "epoch 004 train_loss 0.00774358 val_loss 0.01593600\n",
      "epoch 005 train_loss 0.00719195 val_loss 0.01475767\n",
      "epoch 006 train_loss 0.00681119 val_loss 0.01385387\n",
      "epoch 007 train_loss 0.00652197 val_loss 0.01313730\n",
      "epoch 008 train_loss 0.00629101 val_loss 0.01254629\n",
      "epoch 009 train_loss 0.00610118 val_loss 0.01204458\n",
      "epoch 010 train_loss 0.00594193 val_loss 0.01161126\n",
      "epoch 011 train_loss 0.00580605 val_loss 0.01123330\n",
      "epoch 012 train_loss 0.00568834 val_loss 0.01090169\n",
      "epoch 013 train_loss 0.00558498 val_loss 0.01060961\n"
     ]
    },
    {
     "name": "stderr",
     "output_type": "stream",
     "text": [
      "100%|██████████| 20/20 [00:00<00:00, 96.27it/s]"
     ]
    },
    {
     "name": "stdout",
     "output_type": "stream",
     "text": [
      "epoch 014 train_loss 0.00549314 val_loss 0.01035154\n",
      "epoch 015 train_loss 0.00541071 val_loss 0.01012284\n",
      "epoch 016 train_loss 0.00533611 val_loss 0.00991953\n",
      "epoch 017 train_loss 0.00526813 val_loss 0.00973820\n",
      "epoch 018 train_loss 0.00520580 val_loss 0.00957588\n",
      "epoch 019 train_loss 0.00514837 val_loss 0.00943002\n"
     ]
    },
    {
     "name": "stderr",
     "output_type": "stream",
     "text": [
      "100%|██████████| 20/20 [00:00<00:00, 96.14it/s]\n",
      "f:\\毕设\\实现代码\\FedAvg\\algorithms\\..\\algorithms\\bp_nn.py:31: FutureWarning: The default value of numeric_only in DataFrame.mean is deprecated. In a future version, it will default to False. In addition, specifying 'numeric_only=None' is deprecated. Select only valid columns or specify the value of numeric_only to silence this warning.\n",
      "  df.fillna(df.mean(), inplace=True)\n"
     ]
    },
    {
     "name": "stdout",
     "output_type": "stream",
     "text": [
      "training...\n",
      "data processing...\n"
     ]
    },
    {
     "name": "stderr",
     "output_type": "stream",
     "text": [
      "  0%|          | 0/20 [00:00<?, ?it/s]"
     ]
    },
    {
     "name": "stdout",
     "output_type": "stream",
     "text": [
      "epoch 000 train_loss 0.00647447 val_loss 0.00809930\n",
      "epoch 001 train_loss 0.00628426 val_loss 0.00800949\n",
      "epoch 002 train_loss 0.00616849 val_loss 0.00796422\n",
      "epoch 003 train_loss 0.00609406 val_loss 0.00793464\n",
      "epoch 004 train_loss 0.00604402 val_loss 0.00790856\n",
      "epoch 005 train_loss 0.00600917 val_loss 0.00788110\n",
      "epoch 006 train_loss 0.00598431 val_loss 0.00785054\n",
      "epoch 007 train_loss 0.00596628 val_loss 0.00781657\n"
     ]
    },
    {
     "name": "stderr",
     "output_type": "stream",
     "text": [
      " 50%|█████     | 10/20 [00:00<00:00, 96.35it/s]"
     ]
    },
    {
     "name": "stdout",
     "output_type": "stream",
     "text": [
      "epoch 008 train_loss 0.00595305 val_loss 0.00777955\n",
      "epoch 009 train_loss 0.00594323 val_loss 0.00774004\n",
      "epoch 010 train_loss 0.00593580 val_loss 0.00769862\n",
      "epoch 011 train_loss 0.00593003 val_loss 0.00765577\n",
      "epoch 012 train_loss 0.00592537 val_loss 0.00761184\n",
      "epoch 013 train_loss 0.00592139 val_loss 0.00756704\n",
      "epoch 014 train_loss 0.00591778 val_loss 0.00752149\n"
     ]
    },
    {
     "name": "stderr",
     "output_type": "stream",
     "text": [
      "100%|██████████| 20/20 [00:00<00:00, 95.31it/s]"
     ]
    },
    {
     "name": "stdout",
     "output_type": "stream",
     "text": [
      "epoch 015 train_loss 0.00591434 val_loss 0.00747526\n",
      "epoch 016 train_loss 0.00591091 val_loss 0.00742837\n",
      "epoch 017 train_loss 0.00590739 val_loss 0.00738084\n",
      "epoch 018 train_loss 0.00590372 val_loss 0.00733270\n",
      "epoch 019 train_loss 0.00589985 val_loss 0.00728398\n"
     ]
    },
    {
     "name": "stderr",
     "output_type": "stream",
     "text": [
      "100%|██████████| 20/20 [00:00<00:00, 95.01it/s]\n",
      "f:\\毕设\\实现代码\\FedAvg\\algorithms\\..\\algorithms\\bp_nn.py:31: FutureWarning: The default value of numeric_only in DataFrame.mean is deprecated. In a future version, it will default to False. In addition, specifying 'numeric_only=None' is deprecated. Select only valid columns or specify the value of numeric_only to silence this warning.\n",
      "  df.fillna(df.mean(), inplace=True)\n"
     ]
    },
    {
     "name": "stdout",
     "output_type": "stream",
     "text": [
      "training...\n",
      "data processing...\n"
     ]
    },
    {
     "name": "stderr",
     "output_type": "stream",
     "text": [
      "  0%|          | 0/20 [00:00<?, ?it/s]"
     ]
    },
    {
     "name": "stdout",
     "output_type": "stream",
     "text": [
      "epoch 000 train_loss 0.00612273 val_loss 0.01657900\n",
      "epoch 001 train_loss 0.00583337 val_loss 0.01667660\n",
      "epoch 002 train_loss 0.00568611 val_loss 0.01675060\n",
      "epoch 003 train_loss 0.00559195 val_loss 0.01678949\n",
      "epoch 004 train_loss 0.00552440 val_loss 0.01680345\n",
      "epoch 005 train_loss 0.00547171 val_loss 0.01680218\n",
      "epoch 006 train_loss 0.00542779 val_loss 0.01679232\n",
      "epoch 007 train_loss 0.00538933 val_loss 0.01677792\n",
      "epoch 008 train_loss 0.00535444 val_loss 0.01676130\n"
     ]
    },
    {
     "name": "stderr",
     "output_type": "stream",
     "text": [
      " 50%|█████     | 10/20 [00:00<00:00, 96.38it/s]"
     ]
    },
    {
     "name": "stdout",
     "output_type": "stream",
     "text": [
      "epoch 009 train_loss 0.00532205 val_loss 0.01674371\n",
      "epoch 010 train_loss 0.00529154 val_loss 0.01672579\n",
      "epoch 011 train_loss 0.00526256 val_loss 0.01670784\n",
      "epoch 012 train_loss 0.00523488 val_loss 0.01668997\n",
      "epoch 013 train_loss 0.00520836 val_loss 0.01667225\n",
      "epoch 014 train_loss 0.00518290 val_loss 0.01665467\n"
     ]
    },
    {
     "name": "stderr",
     "output_type": "stream",
     "text": [
      "100%|██████████| 20/20 [00:00<00:00, 95.42it/s]"
     ]
    },
    {
     "name": "stdout",
     "output_type": "stream",
     "text": [
      "epoch 015 train_loss 0.00515842 val_loss 0.01663723\n",
      "epoch 016 train_loss 0.00513486 val_loss 0.01661993\n",
      "epoch 017 train_loss 0.00511217 val_loss 0.01660278\n",
      "epoch 018 train_loss 0.00509029 val_loss 0.01658578\n",
      "epoch 019 train_loss 0.00506918 val_loss 0.01656895\n"
     ]
    },
    {
     "name": "stderr",
     "output_type": "stream",
     "text": [
      "100%|██████████| 20/20 [00:00<00:00, 95.11it/s]\n",
      "f:\\毕设\\实现代码\\FedAvg\\algorithms\\..\\algorithms\\bp_nn.py:31: FutureWarning: The default value of numeric_only in DataFrame.mean is deprecated. In a future version, it will default to False. In addition, specifying 'numeric_only=None' is deprecated. Select only valid columns or specify the value of numeric_only to silence this warning.\n",
      "  df.fillna(df.mean(), inplace=True)\n"
     ]
    },
    {
     "name": "stdout",
     "output_type": "stream",
     "text": [
      "training...\n",
      "data processing...\n"
     ]
    },
    {
     "name": "stderr",
     "output_type": "stream",
     "text": [
      "  0%|          | 0/20 [00:00<?, ?it/s]"
     ]
    },
    {
     "name": "stdout",
     "output_type": "stream",
     "text": [
      "epoch 000 train_loss 0.00813832 val_loss 0.00691250\n",
      "epoch 001 train_loss 0.00807545 val_loss 0.00642389\n",
      "epoch 002 train_loss 0.00801149 val_loss 0.00616871\n",
      "epoch 003 train_loss 0.00795530 val_loss 0.00600895\n",
      "epoch 004 train_loss 0.00791002 val_loss 0.00589270\n",
      "epoch 005 train_loss 0.00787499 val_loss 0.00579876\n",
      "epoch 006 train_loss 0.00784841 val_loss 0.00571777\n",
      "epoch 007 train_loss 0.00782848 val_loss 0.00564525\n",
      "epoch 008 train_loss 0.00781371 val_loss 0.00557886\n"
     ]
    },
    {
     "name": "stderr",
     "output_type": "stream",
     "text": [
      " 50%|█████     | 10/20 [00:00<00:00, 95.49it/s]"
     ]
    },
    {
     "name": "stdout",
     "output_type": "stream",
     "text": [
      "epoch 009 train_loss 0.00780298 val_loss 0.00551729\n",
      "epoch 010 train_loss 0.00779542 val_loss 0.00545967\n",
      "epoch 011 train_loss 0.00779038 val_loss 0.00540546\n",
      "epoch 012 train_loss 0.00778736 val_loss 0.00535421\n",
      "epoch 013 train_loss 0.00778597 val_loss 0.00530563\n",
      "epoch 014 train_loss 0.00778593 val_loss 0.00525943\n"
     ]
    },
    {
     "name": "stderr",
     "output_type": "stream",
     "text": [
      "100%|██████████| 20/20 [00:00<00:00, 95.49it/s]"
     ]
    },
    {
     "name": "stdout",
     "output_type": "stream",
     "text": [
      "epoch 015 train_loss 0.00778697 val_loss 0.00521541\n",
      "epoch 016 train_loss 0.00778893 val_loss 0.00517339\n",
      "epoch 017 train_loss 0.00779163 val_loss 0.00513320\n",
      "epoch 018 train_loss 0.00779496 val_loss 0.00509471\n",
      "epoch 019 train_loss 0.00779880 val_loss 0.00505780\n"
     ]
    },
    {
     "name": "stderr",
     "output_type": "stream",
     "text": [
      "100%|██████████| 20/20 [00:00<00:00, 95.04it/s]\n",
      "f:\\毕设\\实现代码\\FedAvg\\algorithms\\..\\algorithms\\bp_nn.py:31: FutureWarning: The default value of numeric_only in DataFrame.mean is deprecated. In a future version, it will default to False. In addition, specifying 'numeric_only=None' is deprecated. Select only valid columns or specify the value of numeric_only to silence this warning.\n",
      "  df.fillna(df.mean(), inplace=True)\n"
     ]
    },
    {
     "name": "stdout",
     "output_type": "stream",
     "text": [
      "training...\n",
      "data processing...\n"
     ]
    },
    {
     "name": "stderr",
     "output_type": "stream",
     "text": [
      "  0%|          | 0/20 [00:00<?, ?it/s]"
     ]
    },
    {
     "name": "stdout",
     "output_type": "stream",
     "text": [
      "epoch 000 train_loss 0.00278315 val_loss 0.00960774\n",
      "epoch 001 train_loss 0.00278808 val_loss 0.00954728\n",
      "epoch 002 train_loss 0.00278599 val_loss 0.00952780\n",
      "epoch 003 train_loss 0.00277921 val_loss 0.00951331\n",
      "epoch 004 train_loss 0.00277043 val_loss 0.00949413\n",
      "epoch 005 train_loss 0.00276135 val_loss 0.00946872\n",
      "epoch 006 train_loss 0.00275280 val_loss 0.00943814\n",
      "epoch 007 train_loss 0.00274508 val_loss 0.00940406\n",
      "epoch 008 train_loss 0.00273824 val_loss 0.00936805\n"
     ]
    },
    {
     "name": "stderr",
     "output_type": "stream",
     "text": [
      " 50%|█████     | 10/20 [00:00<00:00, 96.43it/s]"
     ]
    },
    {
     "name": "stdout",
     "output_type": "stream",
     "text": [
      "epoch 009 train_loss 0.00273220 val_loss 0.00933134\n",
      "epoch 010 train_loss 0.00272686 val_loss 0.00929483\n",
      "epoch 011 train_loss 0.00272209 val_loss 0.00925910\n",
      "epoch 012 train_loss 0.00271782 val_loss 0.00922453\n"
     ]
    },
    {
     "name": "stderr",
     "output_type": "stream",
     "text": [
      "100%|██████████| 20/20 [00:00<00:00, 94.79it/s]"
     ]
    },
    {
     "name": "stdout",
     "output_type": "stream",
     "text": [
      "epoch 013 train_loss 0.00271394 val_loss 0.00919134\n",
      "epoch 014 train_loss 0.00271040 val_loss 0.00915962\n",
      "epoch 015 train_loss 0.00270713 val_loss 0.00912940\n",
      "epoch 016 train_loss 0.00270410 val_loss 0.00910066\n",
      "epoch 017 train_loss 0.00270127 val_loss 0.00907335\n",
      "epoch 018 train_loss 0.00269861 val_loss 0.00904740\n",
      "epoch 019 train_loss 0.00269609 val_loss 0.00902275\n"
     ]
    },
    {
     "name": "stderr",
     "output_type": "stream",
     "text": [
      "100%|██████████| 20/20 [00:00<00:00, 94.57it/s]\n",
      "f:\\毕设\\实现代码\\FedAvg\\algorithms\\..\\algorithms\\bp_nn.py:31: FutureWarning: The default value of numeric_only in DataFrame.mean is deprecated. In a future version, it will default to False. In addition, specifying 'numeric_only=None' is deprecated. Select only valid columns or specify the value of numeric_only to silence this warning.\n",
      "  df.fillna(df.mean(), inplace=True)\n"
     ]
    },
    {
     "name": "stdout",
     "output_type": "stream",
     "text": [
      "round 2 :\n",
      "5\n",
      "5\n",
      "training...\n",
      "data processing...\n"
     ]
    },
    {
     "name": "stderr",
     "output_type": "stream",
     "text": [
      "  0%|          | 0/20 [00:00<?, ?it/s]"
     ]
    },
    {
     "name": "stdout",
     "output_type": "stream",
     "text": [
      "epoch 000 train_loss 0.00794834 val_loss 0.01096691\n",
      "epoch 001 train_loss 0.00766383 val_loss 0.00868634\n",
      "epoch 002 train_loss 0.00769892 val_loss 0.00749147\n",
      "epoch 003 train_loss 0.00773383 val_loss 0.00683241\n",
      "epoch 004 train_loss 0.00775014 val_loss 0.00644399\n"
     ]
    },
    {
     "name": "stderr",
     "output_type": "stream",
     "text": [
      " 50%|█████     | 10/20 [00:00<00:00, 95.52it/s]"
     ]
    },
    {
     "name": "stdout",
     "output_type": "stream",
     "text": [
      "epoch 005 train_loss 0.00775331 val_loss 0.00619858\n",
      "epoch 006 train_loss 0.00774995 val_loss 0.00603210\n",
      "epoch 007 train_loss 0.00774450 val_loss 0.00591073\n",
      "epoch 008 train_loss 0.00773939 val_loss 0.00581602\n",
      "epoch 009 train_loss 0.00773571 val_loss 0.00573760\n",
      "epoch 010 train_loss 0.00773378 val_loss 0.00566954\n",
      "epoch 011 train_loss 0.00773354 val_loss 0.00560837\n",
      "epoch 012 train_loss 0.00773479 val_loss 0.00555199\n",
      "epoch 013 train_loss 0.00773727 val_loss 0.00549911\n",
      "epoch 014 train_loss 0.00774077 val_loss 0.00544889\n",
      "epoch 015 train_loss 0.00774508 val_loss 0.00540082\n",
      "epoch 016 train_loss 0.00775006 val_loss 0.00535451\n",
      "epoch 017 train_loss 0.00775556 val_loss 0.00530973\n",
      "epoch 018 train_loss 0.00776149 val_loss 0.00526631\n"
     ]
    },
    {
     "name": "stderr",
     "output_type": "stream",
     "text": [
      "100%|██████████| 20/20 [00:00<00:00, 94.49it/s]\n",
      "f:\\毕设\\实现代码\\FedAvg\\algorithms\\..\\algorithms\\bp_nn.py:31: FutureWarning: The default value of numeric_only in DataFrame.mean is deprecated. In a future version, it will default to False. In addition, specifying 'numeric_only=None' is deprecated. Select only valid columns or specify the value of numeric_only to silence this warning.\n",
      "  df.fillna(df.mean(), inplace=True)\n"
     ]
    },
    {
     "name": "stdout",
     "output_type": "stream",
     "text": [
      "epoch 019 train_loss 0.00776778 val_loss 0.00522413\n",
      "training...\n",
      "data processing...\n"
     ]
    },
    {
     "name": "stderr",
     "output_type": "stream",
     "text": [
      "  0%|          | 0/20 [00:00<?, ?it/s]"
     ]
    },
    {
     "name": "stdout",
     "output_type": "stream",
     "text": [
      "epoch 000 train_loss 0.00285861 val_loss 0.00864498\n",
      "epoch 001 train_loss 0.00273536 val_loss 0.00881975\n",
      "epoch 002 train_loss 0.00265350 val_loss 0.00892519\n",
      "epoch 003 train_loss 0.00260123 val_loss 0.00899264\n",
      "epoch 004 train_loss 0.00256754 val_loss 0.00903773\n",
      "epoch 005 train_loss 0.00254543 val_loss 0.00906819\n",
      "epoch 006 train_loss 0.00253054 val_loss 0.00908823\n"
     ]
    },
    {
     "name": "stderr",
     "output_type": "stream",
     "text": [
      " 50%|█████     | 10/20 [00:00<00:00, 95.49it/s]"
     ]
    },
    {
     "name": "stdout",
     "output_type": "stream",
     "text": [
      "epoch 007 train_loss 0.00252017 val_loss 0.00910048\n",
      "epoch 008 train_loss 0.00251266 val_loss 0.00910676\n",
      "epoch 009 train_loss 0.00250699 val_loss 0.00910843\n",
      "epoch 010 train_loss 0.00250253 val_loss 0.00910655\n",
      "epoch 011 train_loss 0.00249888 val_loss 0.00910192\n",
      "epoch 012 train_loss 0.00249579 val_loss 0.00909520\n",
      "epoch 013 train_loss 0.00249309 val_loss 0.00908688\n"
     ]
    },
    {
     "name": "stderr",
     "output_type": "stream",
     "text": [
      "100%|██████████| 20/20 [00:00<00:00, 94.96it/s]"
     ]
    },
    {
     "name": "stdout",
     "output_type": "stream",
     "text": [
      "epoch 014 train_loss 0.00249068 val_loss 0.00907738\n",
      "epoch 015 train_loss 0.00248850 val_loss 0.00906700\n",
      "epoch 016 train_loss 0.00248650 val_loss 0.00905599\n",
      "epoch 017 train_loss 0.00248465 val_loss 0.00904454\n",
      "epoch 018 train_loss 0.00248292 val_loss 0.00903280\n",
      "epoch 019 train_loss 0.00248130 val_loss 0.00902088\n"
     ]
    },
    {
     "name": "stderr",
     "output_type": "stream",
     "text": [
      "100%|██████████| 20/20 [00:00<00:00, 94.60it/s]\n",
      "f:\\毕设\\实现代码\\FedAvg\\algorithms\\..\\algorithms\\bp_nn.py:31: FutureWarning: The default value of numeric_only in DataFrame.mean is deprecated. In a future version, it will default to False. In addition, specifying 'numeric_only=None' is deprecated. Select only valid columns or specify the value of numeric_only to silence this warning.\n",
      "  df.fillna(df.mean(), inplace=True)\n"
     ]
    },
    {
     "name": "stdout",
     "output_type": "stream",
     "text": [
      "training...\n",
      "data processing...\n"
     ]
    },
    {
     "name": "stderr",
     "output_type": "stream",
     "text": [
      "  0%|          | 0/20 [00:00<?, ?it/s]"
     ]
    },
    {
     "name": "stdout",
     "output_type": "stream",
     "text": [
      "epoch 000 train_loss 0.00363022 val_loss 0.01051200\n",
      "epoch 001 train_loss 0.00365661 val_loss 0.01034170\n",
      "epoch 002 train_loss 0.00367215 val_loss 0.01021958\n",
      "epoch 003 train_loss 0.00368471 val_loss 0.01012504\n",
      "epoch 004 train_loss 0.00369577 val_loss 0.01004847\n",
      "epoch 005 train_loss 0.00370570 val_loss 0.00998477\n",
      "epoch 006 train_loss 0.00371463 val_loss 0.00993073\n",
      "epoch 007 train_loss 0.00372271 val_loss 0.00988416\n"
     ]
    },
    {
     "name": "stderr",
     "output_type": "stream",
     "text": [
      " 50%|█████     | 10/20 [00:00<00:00, 96.41it/s]"
     ]
    },
    {
     "name": "stdout",
     "output_type": "stream",
     "text": [
      "epoch 008 train_loss 0.00373006 val_loss 0.00984346\n",
      "epoch 009 train_loss 0.00373681 val_loss 0.00980744\n",
      "epoch 010 train_loss 0.00374304 val_loss 0.00977521\n",
      "epoch 011 train_loss 0.00374885 val_loss 0.00974606\n",
      "epoch 012 train_loss 0.00375430 val_loss 0.00971948\n"
     ]
    },
    {
     "name": "stderr",
     "output_type": "stream",
     "text": [
      "100%|██████████| 20/20 [00:00<00:00, 95.44it/s]"
     ]
    },
    {
     "name": "stdout",
     "output_type": "stream",
     "text": [
      "epoch 013 train_loss 0.00375943 val_loss 0.00969506\n",
      "epoch 014 train_loss 0.00376430 val_loss 0.00967247\n",
      "epoch 015 train_loss 0.00376893 val_loss 0.00965146\n",
      "epoch 016 train_loss 0.00377335 val_loss 0.00963183\n",
      "epoch 017 train_loss 0.00377759 val_loss 0.00961342\n",
      "epoch 018 train_loss 0.00378166 val_loss 0.00959609\n",
      "epoch 019 train_loss 0.00378558 val_loss 0.00957975\n"
     ]
    },
    {
     "name": "stderr",
     "output_type": "stream",
     "text": [
      "100%|██████████| 20/20 [00:00<00:00, 95.15it/s]\n",
      "f:\\毕设\\实现代码\\FedAvg\\algorithms\\..\\algorithms\\bp_nn.py:31: FutureWarning: The default value of numeric_only in DataFrame.mean is deprecated. In a future version, it will default to False. In addition, specifying 'numeric_only=None' is deprecated. Select only valid columns or specify the value of numeric_only to silence this warning.\n",
      "  df.fillna(df.mean(), inplace=True)\n"
     ]
    },
    {
     "name": "stdout",
     "output_type": "stream",
     "text": [
      "training...\n",
      "data processing...\n"
     ]
    },
    {
     "name": "stderr",
     "output_type": "stream",
     "text": [
      "  0%|          | 0/20 [00:00<?, ?it/s]"
     ]
    },
    {
     "name": "stdout",
     "output_type": "stream",
     "text": [
      "epoch 000 train_loss 0.00576941 val_loss 0.00619634\n",
      "epoch 001 train_loss 0.00570695 val_loss 0.00593905\n",
      "epoch 002 train_loss 0.00567826 val_loss 0.00577285\n",
      "epoch 003 train_loss 0.00566387 val_loss 0.00565542\n",
      "epoch 004 train_loss 0.00565828 val_loss 0.00556807\n",
      "epoch 005 train_loss 0.00565782 val_loss 0.00549985\n",
      "epoch 006 train_loss 0.00566021 val_loss 0.00544419\n"
     ]
    },
    {
     "name": "stderr",
     "output_type": "stream",
     "text": [
      " 50%|█████     | 10/20 [00:00<00:00, 96.15it/s]"
     ]
    },
    {
     "name": "stdout",
     "output_type": "stream",
     "text": [
      "epoch 007 train_loss 0.00566407 val_loss 0.00539709\n",
      "epoch 008 train_loss 0.00566864 val_loss 0.00535608\n",
      "epoch 009 train_loss 0.00567349 val_loss 0.00531958\n",
      "epoch 010 train_loss 0.00567837 val_loss 0.00528655\n",
      "epoch 011 train_loss 0.00568316 val_loss 0.00525627\n",
      "epoch 012 train_loss 0.00568779 val_loss 0.00522825\n",
      "epoch 013 train_loss 0.00569222 val_loss 0.00520210\n",
      "epoch 014 train_loss 0.00569646 val_loss 0.00517754\n",
      "epoch 015 train_loss 0.00570050 val_loss 0.00515435\n",
      "epoch 016 train_loss 0.00570436 val_loss 0.00513237\n",
      "epoch 017 train_loss 0.00570805 val_loss 0.00511145\n"
     ]
    },
    {
     "name": "stderr",
     "output_type": "stream",
     "text": [
      "100%|██████████| 20/20 [00:00<00:00, 95.00it/s]"
     ]
    },
    {
     "name": "stdout",
     "output_type": "stream",
     "text": [
      "epoch 018 train_loss 0.00571158 val_loss 0.00509147\n",
      "epoch 019 train_loss 0.00571497 val_loss 0.00507235\n",
      "training...\n",
      "data processing...\n"
     ]
    },
    {
     "name": "stderr",
     "output_type": "stream",
     "text": [
      "\n",
      "f:\\毕设\\实现代码\\FedAvg\\algorithms\\..\\algorithms\\bp_nn.py:31: FutureWarning: The default value of numeric_only in DataFrame.mean is deprecated. In a future version, it will default to False. In addition, specifying 'numeric_only=None' is deprecated. Select only valid columns or specify the value of numeric_only to silence this warning.\n",
      "  df.fillna(df.mean(), inplace=True)\n",
      "  0%|          | 0/20 [00:00<?, ?it/s]"
     ]
    },
    {
     "name": "stdout",
     "output_type": "stream",
     "text": [
      "epoch 000 train_loss 0.00270375 val_loss 0.00912246\n",
      "epoch 001 train_loss 0.00270693 val_loss 0.00904184\n",
      "epoch 002 train_loss 0.00271012 val_loss 0.00901534\n",
      "epoch 003 train_loss 0.00271145 val_loss 0.00900023\n",
      "epoch 004 train_loss 0.00271075 val_loss 0.00898671\n",
      "epoch 005 train_loss 0.00270855 val_loss 0.00897194\n"
     ]
    },
    {
     "name": "stderr",
     "output_type": "stream",
     "text": [
      "100%|██████████| 20/20 [00:00<00:00, 95.50it/s]"
     ]
    },
    {
     "name": "stdout",
     "output_type": "stream",
     "text": [
      "epoch 006 train_loss 0.00270541 val_loss 0.00895525\n",
      "epoch 007 train_loss 0.00270177 val_loss 0.00893677\n",
      "epoch 008 train_loss 0.00269793 val_loss 0.00891692\n",
      "epoch 009 train_loss 0.00269406 val_loss 0.00889617\n",
      "epoch 010 train_loss 0.00269026 val_loss 0.00887495\n",
      "epoch 011 train_loss 0.00268658 val_loss 0.00885359\n",
      "epoch 012 train_loss 0.00268304 val_loss 0.00883237\n",
      "epoch 013 train_loss 0.00267964 val_loss 0.00881148\n",
      "epoch 014 train_loss 0.00267638 val_loss 0.00879106\n",
      "epoch 015 train_loss 0.00267326 val_loss 0.00877120\n",
      "epoch 016 train_loss 0.00267026 val_loss 0.00875196\n",
      "epoch 017 train_loss 0.00266737 val_loss 0.00873336\n",
      "epoch 018 train_loss 0.00266458 val_loss 0.00871542\n",
      "epoch 019 train_loss 0.00266190 val_loss 0.00869814\n"
     ]
    },
    {
     "name": "stderr",
     "output_type": "stream",
     "text": [
      "100%|██████████| 20/20 [00:00<00:00, 95.05it/s]"
     ]
    },
    {
     "name": "stdout",
     "output_type": "stream",
     "text": [
      "round 3 :\n",
      "5\n",
      "5\n",
      "training...\n",
      "data processing...\n"
     ]
    },
    {
     "name": "stderr",
     "output_type": "stream",
     "text": [
      "\n",
      "f:\\毕设\\实现代码\\FedAvg\\algorithms\\..\\algorithms\\bp_nn.py:31: FutureWarning: The default value of numeric_only in DataFrame.mean is deprecated. In a future version, it will default to False. In addition, specifying 'numeric_only=None' is deprecated. Select only valid columns or specify the value of numeric_only to silence this warning.\n",
      "  df.fillna(df.mean(), inplace=True)\n",
      " 50%|█████     | 10/20 [00:00<00:00, 97.35it/s]"
     ]
    },
    {
     "name": "stdout",
     "output_type": "stream",
     "text": [
      "epoch 000 train_loss 0.00569822 val_loss 0.00680672\n",
      "epoch 001 train_loss 0.00564393 val_loss 0.00643130\n",
      "epoch 002 train_loss 0.00563069 val_loss 0.00617481\n",
      "epoch 003 train_loss 0.00562896 val_loss 0.00599059\n",
      "epoch 004 train_loss 0.00563236 val_loss 0.00585200\n",
      "epoch 005 train_loss 0.00563815 val_loss 0.00574317\n",
      "epoch 006 train_loss 0.00564491 val_loss 0.00565459\n",
      "epoch 007 train_loss 0.00565193 val_loss 0.00558036\n",
      "epoch 008 train_loss 0.00565884 val_loss 0.00551675\n",
      "epoch 009 train_loss 0.00566544 val_loss 0.00546125\n",
      "epoch 010 train_loss 0.00567166 val_loss 0.00541211\n",
      "epoch 011 train_loss 0.00567748 val_loss 0.00536811\n",
      "epoch 012 train_loss 0.00568290 val_loss 0.00532833\n"
     ]
    },
    {
     "name": "stderr",
     "output_type": "stream",
     "text": [
      "100%|██████████| 20/20 [00:00<00:00, 95.71it/s]"
     ]
    },
    {
     "name": "stdout",
     "output_type": "stream",
     "text": [
      "epoch 013 train_loss 0.00568796 val_loss 0.00529208\n",
      "epoch 014 train_loss 0.00569267 val_loss 0.00525881\n",
      "epoch 015 train_loss 0.00569707 val_loss 0.00522811\n",
      "epoch 016 train_loss 0.00570120 val_loss 0.00519963\n",
      "epoch 017 train_loss 0.00570508 val_loss 0.00517309\n",
      "epoch 018 train_loss 0.00570875 val_loss 0.00514827\n",
      "epoch 019 train_loss 0.00571222 val_loss 0.00512498\n"
     ]
    },
    {
     "name": "stderr",
     "output_type": "stream",
     "text": [
      "100%|██████████| 20/20 [00:00<00:00, 95.49it/s]\n",
      "f:\\毕设\\实现代码\\FedAvg\\algorithms\\..\\algorithms\\bp_nn.py:31: FutureWarning: The default value of numeric_only in DataFrame.mean is deprecated. In a future version, it will default to False. In addition, specifying 'numeric_only=None' is deprecated. Select only valid columns or specify the value of numeric_only to silence this warning.\n",
      "  df.fillna(df.mean(), inplace=True)\n"
     ]
    },
    {
     "name": "stdout",
     "output_type": "stream",
     "text": [
      "training...\n",
      "data processing...\n"
     ]
    },
    {
     "name": "stderr",
     "output_type": "stream",
     "text": [
      "  0%|          | 0/20 [00:00<?, ?it/s]"
     ]
    },
    {
     "name": "stdout",
     "output_type": "stream",
     "text": [
      "epoch 000 train_loss 0.00381813 val_loss 0.00920273\n",
      "epoch 001 train_loss 0.00377795 val_loss 0.00914344\n",
      "epoch 002 train_loss 0.00377581 val_loss 0.00912736\n",
      "epoch 003 train_loss 0.00378266 val_loss 0.00912602\n",
      "epoch 004 train_loss 0.00379211 val_loss 0.00913094\n",
      "epoch 005 train_loss 0.00380218 val_loss 0.00913856\n",
      "epoch 006 train_loss 0.00381209 val_loss 0.00914723\n",
      "epoch 007 train_loss 0.00382151 val_loss 0.00915611\n"
     ]
    },
    {
     "name": "stderr",
     "output_type": "stream",
     "text": [
      " 50%|█████     | 10/20 [00:00<00:00, 97.37it/s]"
     ]
    },
    {
     "name": "stdout",
     "output_type": "stream",
     "text": [
      "epoch 008 train_loss 0.00383030 val_loss 0.00916477\n",
      "epoch 009 train_loss 0.00383842 val_loss 0.00917300\n",
      "epoch 010 train_loss 0.00384589 val_loss 0.00918071\n",
      "epoch 011 train_loss 0.00385275 val_loss 0.00918785\n",
      "epoch 012 train_loss 0.00385904 val_loss 0.00919442\n",
      "epoch 013 train_loss 0.00386481 val_loss 0.00920044\n",
      "epoch 014 train_loss 0.00387011 val_loss 0.00920594\n"
     ]
    },
    {
     "name": "stderr",
     "output_type": "stream",
     "text": [
      "100%|██████████| 20/20 [00:00<00:00, 96.36it/s]"
     ]
    },
    {
     "name": "stdout",
     "output_type": "stream",
     "text": [
      "epoch 015 train_loss 0.00387500 val_loss 0.00921094\n",
      "epoch 016 train_loss 0.00387950 val_loss 0.00921546\n",
      "epoch 017 train_loss 0.00388367 val_loss 0.00921955\n",
      "epoch 018 train_loss 0.00388754 val_loss 0.00922323\n",
      "epoch 019 train_loss 0.00389114 val_loss 0.00922653\n"
     ]
    },
    {
     "name": "stderr",
     "output_type": "stream",
     "text": [
      "100%|██████████| 20/20 [00:00<00:00, 96.05it/s]\n",
      "f:\\毕设\\实现代码\\FedAvg\\algorithms\\..\\algorithms\\bp_nn.py:31: FutureWarning: The default value of numeric_only in DataFrame.mean is deprecated. In a future version, it will default to False. In addition, specifying 'numeric_only=None' is deprecated. Select only valid columns or specify the value of numeric_only to silence this warning.\n",
      "  df.fillna(df.mean(), inplace=True)\n"
     ]
    },
    {
     "name": "stdout",
     "output_type": "stream",
     "text": [
      "training...\n",
      "data processing...\n"
     ]
    },
    {
     "name": "stderr",
     "output_type": "stream",
     "text": [
      "  0%|          | 0/20 [00:00<?, ?it/s]"
     ]
    },
    {
     "name": "stdout",
     "output_type": "stream",
     "text": [
      "epoch 000 train_loss 0.01015357 val_loss 0.00442152\n",
      "epoch 001 train_loss 0.00997059 val_loss 0.00424010\n",
      "epoch 002 train_loss 0.00985070 val_loss 0.00411205\n",
      "epoch 003 train_loss 0.00976878 val_loss 0.00401966\n",
      "epoch 004 train_loss 0.00971036 val_loss 0.00395287\n",
      "epoch 005 train_loss 0.00966686 val_loss 0.00390369\n",
      "epoch 006 train_loss 0.00963331 val_loss 0.00386648\n",
      "epoch 007 train_loss 0.00960671 val_loss 0.00383744\n"
     ]
    },
    {
     "name": "stderr",
     "output_type": "stream",
     "text": [
      " 50%|█████     | 10/20 [00:00<00:00, 97.35it/s]"
     ]
    },
    {
     "name": "stdout",
     "output_type": "stream",
     "text": [
      "epoch 008 train_loss 0.00958518 val_loss 0.00381407\n",
      "epoch 009 train_loss 0.00956746 val_loss 0.00379470\n",
      "epoch 010 train_loss 0.00955268 val_loss 0.00377820\n",
      "epoch 011 train_loss 0.00954020 val_loss 0.00376381\n",
      "epoch 012 train_loss 0.00952956 val_loss 0.00375103\n",
      "epoch 013 train_loss 0.00952039 val_loss 0.00373948\n"
     ]
    },
    {
     "name": "stderr",
     "output_type": "stream",
     "text": [
      "100%|██████████| 20/20 [00:00<00:00, 96.25it/s]"
     ]
    },
    {
     "name": "stdout",
     "output_type": "stream",
     "text": [
      "epoch 014 train_loss 0.00951241 val_loss 0.00372891\n",
      "epoch 015 train_loss 0.00950541 val_loss 0.00371912\n",
      "epoch 016 train_loss 0.00949921 val_loss 0.00370999\n",
      "epoch 017 train_loss 0.00949366 val_loss 0.00370140\n",
      "epoch 018 train_loss 0.00948866 val_loss 0.00369329\n",
      "epoch 019 train_loss 0.00948412 val_loss 0.00368558\n"
     ]
    },
    {
     "name": "stderr",
     "output_type": "stream",
     "text": [
      "100%|██████████| 20/20 [00:00<00:00, 95.95it/s]"
     ]
    },
    {
     "name": "stdout",
     "output_type": "stream",
     "text": [
      "training...\n",
      "data processing...\n"
     ]
    },
    {
     "name": "stderr",
     "output_type": "stream",
     "text": [
      "\n",
      "f:\\毕设\\实现代码\\FedAvg\\algorithms\\..\\algorithms\\bp_nn.py:31: FutureWarning: The default value of numeric_only in DataFrame.mean is deprecated. In a future version, it will default to False. In addition, specifying 'numeric_only=None' is deprecated. Select only valid columns or specify the value of numeric_only to silence this warning.\n",
      "  df.fillna(df.mean(), inplace=True)\n",
      "  0%|          | 0/20 [00:00<?, ?it/s]"
     ]
    },
    {
     "name": "stdout",
     "output_type": "stream",
     "text": [
      "epoch 000 train_loss 0.00275602 val_loss 0.00913956\n",
      "epoch 001 train_loss 0.00275155 val_loss 0.00904809\n",
      "epoch 002 train_loss 0.00274854 val_loss 0.00900953\n",
      "epoch 003 train_loss 0.00274660 val_loss 0.00898381\n",
      "epoch 004 train_loss 0.00274435 val_loss 0.00896167\n",
      "epoch 005 train_loss 0.00274142 val_loss 0.00894020\n",
      "epoch 006 train_loss 0.00273790 val_loss 0.00891851\n",
      "epoch 007 train_loss 0.00273397 val_loss 0.00889647\n"
     ]
    },
    {
     "name": "stderr",
     "output_type": "stream",
     "text": [
      " 50%|█████     | 10/20 [00:00<00:00, 97.36it/s]"
     ]
    },
    {
     "name": "stdout",
     "output_type": "stream",
     "text": [
      "epoch 008 train_loss 0.00272985 val_loss 0.00887424\n",
      "epoch 009 train_loss 0.00272566 val_loss 0.00885206\n",
      "epoch 010 train_loss 0.00272153 val_loss 0.00883016\n",
      "epoch 011 train_loss 0.00271750 val_loss 0.00880872\n",
      "epoch 012 train_loss 0.00271363 val_loss 0.00878789\n"
     ]
    },
    {
     "name": "stderr",
     "output_type": "stream",
     "text": [
      "100%|██████████| 20/20 [00:00<00:00, 96.24it/s]"
     ]
    },
    {
     "name": "stdout",
     "output_type": "stream",
     "text": [
      "epoch 013 train_loss 0.00270993 val_loss 0.00876775\n",
      "epoch 014 train_loss 0.00270641 val_loss 0.00874836\n",
      "epoch 015 train_loss 0.00270307 val_loss 0.00872975\n",
      "epoch 016 train_loss 0.00269991 val_loss 0.00871191\n",
      "epoch 017 train_loss 0.00269691 val_loss 0.00869484\n",
      "epoch 018 train_loss 0.00269406 val_loss 0.00867851\n",
      "epoch 019 train_loss 0.00269135 val_loss 0.00866290\n"
     ]
    },
    {
     "name": "stderr",
     "output_type": "stream",
     "text": [
      "100%|██████████| 20/20 [00:00<00:00, 95.94it/s]\n",
      "f:\\毕设\\实现代码\\FedAvg\\algorithms\\..\\algorithms\\bp_nn.py:31: FutureWarning: The default value of numeric_only in DataFrame.mean is deprecated. In a future version, it will default to False. In addition, specifying 'numeric_only=None' is deprecated. Select only valid columns or specify the value of numeric_only to silence this warning.\n",
      "  df.fillna(df.mean(), inplace=True)\n"
     ]
    },
    {
     "name": "stdout",
     "output_type": "stream",
     "text": [
      "training...\n",
      "data processing...\n"
     ]
    },
    {
     "name": "stderr",
     "output_type": "stream",
     "text": [
      "  0%|          | 0/20 [00:00<?, ?it/s]"
     ]
    },
    {
     "name": "stdout",
     "output_type": "stream",
     "text": [
      "epoch 000 train_loss 0.00240298 val_loss 0.00914294\n",
      "epoch 001 train_loss 0.00239102 val_loss 0.00906518\n",
      "epoch 002 train_loss 0.00239090 val_loss 0.00899826\n",
      "epoch 003 train_loss 0.00239336 val_loss 0.00894471\n",
      "epoch 004 train_loss 0.00239658 val_loss 0.00890226\n"
     ]
    },
    {
     "name": "stderr",
     "output_type": "stream",
     "text": [
      " 50%|█████     | 10/20 [00:00<00:00, 96.39it/s]"
     ]
    },
    {
     "name": "stdout",
     "output_type": "stream",
     "text": [
      "epoch 005 train_loss 0.00239997 val_loss 0.00886794\n",
      "epoch 006 train_loss 0.00240331 val_loss 0.00883943\n",
      "epoch 007 train_loss 0.00240652 val_loss 0.00881510\n",
      "epoch 008 train_loss 0.00240956 val_loss 0.00879385\n",
      "epoch 009 train_loss 0.00241245 val_loss 0.00877491\n",
      "epoch 010 train_loss 0.00241517 val_loss 0.00875772\n",
      "epoch 011 train_loss 0.00241774 val_loss 0.00874192\n",
      "epoch 012 train_loss 0.00242018 val_loss 0.00872722\n"
     ]
    },
    {
     "name": "stderr",
     "output_type": "stream",
     "text": [
      "100%|██████████| 20/20 [00:00<00:00, 95.40it/s]"
     ]
    },
    {
     "name": "stdout",
     "output_type": "stream",
     "text": [
      "epoch 013 train_loss 0.00242249 val_loss 0.00871342\n",
      "epoch 014 train_loss 0.00242469 val_loss 0.00870037\n",
      "epoch 015 train_loss 0.00242679 val_loss 0.00868797\n",
      "epoch 016 train_loss 0.00242880 val_loss 0.00867611\n",
      "epoch 017 train_loss 0.00243073 val_loss 0.00866475\n",
      "epoch 018 train_loss 0.00243258 val_loss 0.00865382\n",
      "epoch 019 train_loss 0.00243436 val_loss 0.00864329\n"
     ]
    },
    {
     "name": "stderr",
     "output_type": "stream",
     "text": [
      "100%|██████████| 20/20 [00:00<00:00, 95.10it/s]"
     ]
    },
    {
     "name": "stdout",
     "output_type": "stream",
     "text": [
      "round 4 :\n",
      "5\n",
      "5\n",
      "training...\n",
      "data processing...\n"
     ]
    },
    {
     "name": "stderr",
     "output_type": "stream",
     "text": [
      "\n",
      "f:\\毕设\\实现代码\\FedAvg\\algorithms\\..\\algorithms\\bp_nn.py:31: FutureWarning: The default value of numeric_only in DataFrame.mean is deprecated. In a future version, it will default to False. In addition, specifying 'numeric_only=None' is deprecated. Select only valid columns or specify the value of numeric_only to silence this warning.\n",
      "  df.fillna(df.mean(), inplace=True)\n",
      "  0%|          | 0/20 [00:00<?, ?it/s]"
     ]
    },
    {
     "name": "stdout",
     "output_type": "stream",
     "text": [
      "epoch 000 train_loss 0.00489058 val_loss 0.00701406\n",
      "epoch 001 train_loss 0.00470499 val_loss 0.00715457\n",
      "epoch 002 train_loss 0.00461417 val_loss 0.00723484\n",
      "epoch 003 train_loss 0.00454508 val_loss 0.00729139\n",
      "epoch 004 train_loss 0.00449691 val_loss 0.00733467\n"
     ]
    },
    {
     "name": "stderr",
     "output_type": "stream",
     "text": [
      " 50%|█████     | 10/20 [00:00<00:00, 96.45it/s]"
     ]
    },
    {
     "name": "stdout",
     "output_type": "stream",
     "text": [
      "epoch 005 train_loss 0.00446488 val_loss 0.00736795\n",
      "epoch 006 train_loss 0.00444408 val_loss 0.00739309\n",
      "epoch 007 train_loss 0.00443076 val_loss 0.00741160\n",
      "epoch 008 train_loss 0.00442233 val_loss 0.00742488\n",
      "epoch 009 train_loss 0.00441716 val_loss 0.00743419\n",
      "epoch 010 train_loss 0.00441419 val_loss 0.00744060\n",
      "epoch 011 train_loss 0.00441274 val_loss 0.00744492\n",
      "epoch 012 train_loss 0.00441238 val_loss 0.00744776\n",
      "epoch 013 train_loss 0.00441278 val_loss 0.00744953\n",
      "epoch 014 train_loss 0.00441372 val_loss 0.00745052\n",
      "epoch 015 train_loss 0.00441504 val_loss 0.00745093\n",
      "epoch 016 train_loss 0.00441661 val_loss 0.00745088\n",
      "epoch 017 train_loss 0.00441835 val_loss 0.00745045\n",
      "epoch 018 train_loss 0.00442017 val_loss 0.00744971\n"
     ]
    },
    {
     "name": "stderr",
     "output_type": "stream",
     "text": [
      "100%|██████████| 20/20 [00:00<00:00, 96.03it/s]"
     ]
    },
    {
     "name": "stdout",
     "output_type": "stream",
     "text": [
      "epoch 019 train_loss 0.00442204 val_loss 0.00744869\n",
      "training...\n",
      "data processing...\n"
     ]
    },
    {
     "name": "stderr",
     "output_type": "stream",
     "text": [
      "\n",
      "f:\\毕设\\实现代码\\FedAvg\\algorithms\\..\\algorithms\\bp_nn.py:31: FutureWarning: The default value of numeric_only in DataFrame.mean is deprecated. In a future version, it will default to False. In addition, specifying 'numeric_only=None' is deprecated. Select only valid columns or specify the value of numeric_only to silence this warning.\n",
      "  df.fillna(df.mean(), inplace=True)\n",
      "  0%|          | 0/20 [00:00<?, ?it/s]"
     ]
    },
    {
     "name": "stdout",
     "output_type": "stream",
     "text": [
      "epoch 000 train_loss 0.00782571 val_loss 0.00227869\n",
      "epoch 001 train_loss 0.00770609 val_loss 0.00225292\n",
      "epoch 002 train_loss 0.00767562 val_loss 0.00224753\n",
      "epoch 003 train_loss 0.00766603 val_loss 0.00224743\n",
      "epoch 004 train_loss 0.00766134 val_loss 0.00224941\n",
      "epoch 005 train_loss 0.00765726 val_loss 0.00225253\n",
      "epoch 006 train_loss 0.00765252 val_loss 0.00225638\n",
      "epoch 007 train_loss 0.00764673 val_loss 0.00226073\n"
     ]
    },
    {
     "name": "stderr",
     "output_type": "stream",
     "text": [
      " 50%|█████     | 10/20 [00:00<00:00, 96.04it/s]"
     ]
    },
    {
     "name": "stdout",
     "output_type": "stream",
     "text": [
      "epoch 008 train_loss 0.00763978 val_loss 0.00226538\n",
      "epoch 009 train_loss 0.00763171 val_loss 0.00227019\n",
      "epoch 010 train_loss 0.00762259 val_loss 0.00227505\n",
      "epoch 011 train_loss 0.00761254 val_loss 0.00227986\n",
      "epoch 012 train_loss 0.00760170 val_loss 0.00228455\n",
      "epoch 013 train_loss 0.00759019 val_loss 0.00228908\n",
      "epoch 014 train_loss 0.00757815 val_loss 0.00229339\n",
      "epoch 015 train_loss 0.00756567 val_loss 0.00229748\n",
      "epoch 016 train_loss 0.00755288 val_loss 0.00230133\n",
      "epoch 017 train_loss 0.00753986 val_loss 0.00230493\n",
      "epoch 018 train_loss 0.00752670 val_loss 0.00230829\n"
     ]
    },
    {
     "name": "stderr",
     "output_type": "stream",
     "text": [
      "100%|██████████| 20/20 [00:00<00:00, 95.76it/s]\n",
      "f:\\毕设\\实现代码\\FedAvg\\algorithms\\..\\algorithms\\bp_nn.py:31: FutureWarning: The default value of numeric_only in DataFrame.mean is deprecated. In a future version, it will default to False. In addition, specifying 'numeric_only=None' is deprecated. Select only valid columns or specify the value of numeric_only to silence this warning.\n",
      "  df.fillna(df.mean(), inplace=True)\n"
     ]
    },
    {
     "name": "stdout",
     "output_type": "stream",
     "text": [
      "epoch 019 train_loss 0.00751345 val_loss 0.00231142\n",
      "training...\n",
      "data processing...\n"
     ]
    },
    {
     "name": "stderr",
     "output_type": "stream",
     "text": [
      "  0%|          | 0/20 [00:00<?, ?it/s]"
     ]
    },
    {
     "name": "stdout",
     "output_type": "stream",
     "text": [
      "epoch 000 train_loss 0.00600645 val_loss 0.00525507\n",
      "epoch 001 train_loss 0.00593687 val_loss 0.00510258\n",
      "epoch 002 train_loss 0.00589199 val_loss 0.00499619\n",
      "epoch 003 train_loss 0.00586409 val_loss 0.00491911\n"
     ]
    },
    {
     "name": "stderr",
     "output_type": "stream",
     "text": [
      " 50%|█████     | 10/20 [00:00<00:00, 97.32it/s]"
     ]
    },
    {
     "name": "stdout",
     "output_type": "stream",
     "text": [
      "epoch 004 train_loss 0.00584708 val_loss 0.00486193\n",
      "epoch 005 train_loss 0.00583684 val_loss 0.00481836\n",
      "epoch 006 train_loss 0.00583079 val_loss 0.00478421\n",
      "epoch 007 train_loss 0.00582735 val_loss 0.00475673\n",
      "epoch 008 train_loss 0.00582554 val_loss 0.00473410\n",
      "epoch 009 train_loss 0.00582476 val_loss 0.00471508\n",
      "epoch 010 train_loss 0.00582460 val_loss 0.00469879\n",
      "epoch 011 train_loss 0.00582485 val_loss 0.00468462\n",
      "epoch 012 train_loss 0.00582533 val_loss 0.00467213\n",
      "epoch 013 train_loss 0.00582595 val_loss 0.00466096\n",
      "epoch 014 train_loss 0.00582664 val_loss 0.00465088\n",
      "epoch 015 train_loss 0.00582737 val_loss 0.00464168\n",
      "epoch 016 train_loss 0.00582811 val_loss 0.00463321\n",
      "epoch 017 train_loss 0.00582884 val_loss 0.00462535\n",
      "epoch 018 train_loss 0.00582956 val_loss 0.00461801\n"
     ]
    },
    {
     "name": "stderr",
     "output_type": "stream",
     "text": [
      "100%|██████████| 20/20 [00:00<00:00, 95.49it/s]\n",
      "f:\\毕设\\实现代码\\FedAvg\\algorithms\\..\\algorithms\\bp_nn.py:31: FutureWarning: The default value of numeric_only in DataFrame.mean is deprecated. In a future version, it will default to False. In addition, specifying 'numeric_only=None' is deprecated. Select only valid columns or specify the value of numeric_only to silence this warning.\n",
      "  df.fillna(df.mean(), inplace=True)\n"
     ]
    },
    {
     "name": "stdout",
     "output_type": "stream",
     "text": [
      "epoch 019 train_loss 0.00583027 val_loss 0.00461110\n",
      "training...\n",
      "data processing...\n"
     ]
    },
    {
     "name": "stderr",
     "output_type": "stream",
     "text": [
      "  0%|          | 0/20 [00:00<?, ?it/s]"
     ]
    },
    {
     "name": "stdout",
     "output_type": "stream",
     "text": [
      "epoch 000 train_loss 0.00919434 val_loss 0.00358710\n",
      "epoch 001 train_loss 0.00921406 val_loss 0.00359388\n",
      "epoch 002 train_loss 0.00922673 val_loss 0.00359568\n",
      "epoch 003 train_loss 0.00923463 val_loss 0.00359424\n"
     ]
    },
    {
     "name": "stderr",
     "output_type": "stream",
     "text": [
      " 50%|█████     | 10/20 [00:00<00:00, 96.39it/s]"
     ]
    },
    {
     "name": "stdout",
     "output_type": "stream",
     "text": [
      "epoch 004 train_loss 0.00923971 val_loss 0.00359113\n",
      "epoch 005 train_loss 0.00924301 val_loss 0.00358718\n",
      "epoch 006 train_loss 0.00924517 val_loss 0.00358287\n",
      "epoch 007 train_loss 0.00924655 val_loss 0.00357844\n",
      "epoch 008 train_loss 0.00924738 val_loss 0.00357405\n",
      "epoch 009 train_loss 0.00924781 val_loss 0.00356976\n",
      "epoch 010 train_loss 0.00924795 val_loss 0.00356563\n",
      "epoch 011 train_loss 0.00924788 val_loss 0.00356166\n",
      "epoch 012 train_loss 0.00924765 val_loss 0.00355786\n",
      "epoch 013 train_loss 0.00924730 val_loss 0.00355422\n",
      "epoch 014 train_loss 0.00924686 val_loss 0.00355074\n",
      "epoch 015 train_loss 0.00924635 val_loss 0.00354739\n",
      "epoch 016 train_loss 0.00924580 val_loss 0.00354417\n",
      "epoch 017 train_loss 0.00924521 val_loss 0.00354106\n",
      "epoch 018 train_loss 0.00924459 val_loss 0.00353804\n"
     ]
    },
    {
     "name": "stderr",
     "output_type": "stream",
     "text": [
      "100%|██████████| 20/20 [00:00<00:00, 94.84it/s]\n",
      "f:\\毕设\\实现代码\\FedAvg\\algorithms\\..\\algorithms\\bp_nn.py:31: FutureWarning: The default value of numeric_only in DataFrame.mean is deprecated. In a future version, it will default to False. In addition, specifying 'numeric_only=None' is deprecated. Select only valid columns or specify the value of numeric_only to silence this warning.\n",
      "  df.fillna(df.mean(), inplace=True)\n"
     ]
    },
    {
     "name": "stdout",
     "output_type": "stream",
     "text": [
      "epoch 019 train_loss 0.00924396 val_loss 0.00353512\n",
      "training...\n",
      "data processing...\n"
     ]
    },
    {
     "name": "stderr",
     "output_type": "stream",
     "text": [
      "  0%|          | 0/20 [00:00<?, ?it/s]"
     ]
    },
    {
     "name": "stdout",
     "output_type": "stream",
     "text": [
      "epoch 000 train_loss 0.00254754 val_loss 0.00448292\n",
      "epoch 001 train_loss 0.00243737 val_loss 0.00448899\n",
      "epoch 002 train_loss 0.00238266 val_loss 0.00449778\n",
      "epoch 003 train_loss 0.00235279 val_loss 0.00450651\n"
     ]
    },
    {
     "name": "stderr",
     "output_type": "stream",
     "text": [
      " 50%|█████     | 10/20 [00:00<00:00, 96.95it/s]"
     ]
    },
    {
     "name": "stdout",
     "output_type": "stream",
     "text": [
      "epoch 004 train_loss 0.00233534 val_loss 0.00451464\n",
      "epoch 005 train_loss 0.00232470 val_loss 0.00452150\n",
      "epoch 006 train_loss 0.00231802 val_loss 0.00452675\n",
      "epoch 007 train_loss 0.00231374 val_loss 0.00453034\n",
      "epoch 008 train_loss 0.00231098 val_loss 0.00453242\n",
      "epoch 009 train_loss 0.00230921 val_loss 0.00453319\n",
      "epoch 010 train_loss 0.00230809 val_loss 0.00453288\n",
      "epoch 011 train_loss 0.00230742 val_loss 0.00453171\n",
      "epoch 012 train_loss 0.00230706 val_loss 0.00452987\n",
      "epoch 013 train_loss 0.00230692 val_loss 0.00452750\n",
      "epoch 014 train_loss 0.00230694 val_loss 0.00452475\n",
      "epoch 015 train_loss 0.00230708 val_loss 0.00452170\n",
      "epoch 016 train_loss 0.00230729 val_loss 0.00451845\n",
      "epoch 017 train_loss 0.00230758 val_loss 0.00451505\n",
      "epoch 018 train_loss 0.00230790 val_loss 0.00451155\n"
     ]
    },
    {
     "name": "stderr",
     "output_type": "stream",
     "text": [
      "100%|██████████| 20/20 [00:00<00:00, 95.32it/s]"
     ]
    },
    {
     "name": "stdout",
     "output_type": "stream",
     "text": [
      "epoch 019 train_loss 0.00230826 val_loss 0.00450799\n",
      "round 5 :\n",
      "5\n",
      "5\n",
      "training...\n",
      "data processing...\n"
     ]
    },
    {
     "name": "stderr",
     "output_type": "stream",
     "text": [
      "\n",
      "f:\\毕设\\实现代码\\FedAvg\\algorithms\\..\\algorithms\\bp_nn.py:31: FutureWarning: The default value of numeric_only in DataFrame.mean is deprecated. In a future version, it will default to False. In addition, specifying 'numeric_only=None' is deprecated. Select only valid columns or specify the value of numeric_only to silence this warning.\n",
      "  df.fillna(df.mean(), inplace=True)\n",
      "  0%|          | 0/20 [00:00<?, ?it/s]"
     ]
    },
    {
     "name": "stdout",
     "output_type": "stream",
     "text": [
      "epoch 000 train_loss 0.00272154 val_loss 0.00854535\n",
      "epoch 001 train_loss 0.00270981 val_loss 0.00854084\n",
      "epoch 002 train_loss 0.00270608 val_loss 0.00853770\n",
      "epoch 003 train_loss 0.00270472 val_loss 0.00853383\n"
     ]
    },
    {
     "name": "stderr",
     "output_type": "stream",
     "text": [
      " 50%|█████     | 10/20 [00:00<00:00, 97.35it/s]"
     ]
    },
    {
     "name": "stdout",
     "output_type": "stream",
     "text": [
      "epoch 004 train_loss 0.00270398 val_loss 0.00852856\n",
      "epoch 005 train_loss 0.00270316 val_loss 0.00852178\n",
      "epoch 006 train_loss 0.00270202 val_loss 0.00851361\n",
      "epoch 007 train_loss 0.00270057 val_loss 0.00850427\n",
      "epoch 008 train_loss 0.00269887 val_loss 0.00849400\n",
      "epoch 009 train_loss 0.00269697 val_loss 0.00848304\n",
      "epoch 010 train_loss 0.00269496 val_loss 0.00847162\n",
      "epoch 011 train_loss 0.00269288 val_loss 0.00845991\n",
      "epoch 012 train_loss 0.00269076 val_loss 0.00844807\n",
      "epoch 013 train_loss 0.00268863 val_loss 0.00843621\n",
      "epoch 014 train_loss 0.00268652 val_loss 0.00842443\n",
      "epoch 015 train_loss 0.00268443 val_loss 0.00841280\n",
      "epoch 016 train_loss 0.00268238 val_loss 0.00840137\n",
      "epoch 017 train_loss 0.00268036 val_loss 0.00839019\n",
      "epoch 018 train_loss 0.00267838 val_loss 0.00837927\n"
     ]
    },
    {
     "name": "stderr",
     "output_type": "stream",
     "text": [
      "100%|██████████| 20/20 [00:00<00:00, 95.97it/s]\n",
      "f:\\毕设\\实现代码\\FedAvg\\algorithms\\..\\algorithms\\bp_nn.py:31: FutureWarning: The default value of numeric_only in DataFrame.mean is deprecated. In a future version, it will default to False. In addition, specifying 'numeric_only=None' is deprecated. Select only valid columns or specify the value of numeric_only to silence this warning.\n",
      "  df.fillna(df.mean(), inplace=True)\n"
     ]
    },
    {
     "name": "stdout",
     "output_type": "stream",
     "text": [
      "epoch 019 train_loss 0.00267645 val_loss 0.00836863\n",
      "training...\n",
      "data processing...\n"
     ]
    },
    {
     "name": "stderr",
     "output_type": "stream",
     "text": [
      " 50%|█████     | 10/20 [00:00<00:00, 96.38it/s]"
     ]
    },
    {
     "name": "stdout",
     "output_type": "stream",
     "text": [
      "epoch 000 train_loss 0.00229382 val_loss 0.00461163\n",
      "epoch 001 train_loss 0.00228660 val_loss 0.00460314\n",
      "epoch 002 train_loss 0.00228680 val_loss 0.00458909\n",
      "epoch 003 train_loss 0.00228823 val_loss 0.00457535\n",
      "epoch 004 train_loss 0.00228983 val_loss 0.00456343\n",
      "epoch 005 train_loss 0.00229134 val_loss 0.00455331\n",
      "epoch 006 train_loss 0.00229269 val_loss 0.00454465\n",
      "epoch 007 train_loss 0.00229387 val_loss 0.00453712\n",
      "epoch 008 train_loss 0.00229491 val_loss 0.00453046\n",
      "epoch 009 train_loss 0.00229582 val_loss 0.00452446\n",
      "epoch 010 train_loss 0.00229662 val_loss 0.00451899\n",
      "epoch 011 train_loss 0.00229733 val_loss 0.00451392\n",
      "epoch 012 train_loss 0.00229796 val_loss 0.00450918\n",
      "epoch 013 train_loss 0.00229852 val_loss 0.00450471\n",
      "epoch 014 train_loss 0.00229903 val_loss 0.00450046\n",
      "epoch 015 train_loss 0.00229949 val_loss 0.00449638\n",
      "epoch 016 train_loss 0.00229991 val_loss 0.00449246\n",
      "epoch 017 train_loss 0.00230029 val_loss 0.00448866\n",
      "epoch 018 train_loss 0.00230064 val_loss 0.00448498\n"
     ]
    },
    {
     "name": "stderr",
     "output_type": "stream",
     "text": [
      "100%|██████████| 20/20 [00:00<00:00, 95.03it/s]\n",
      "f:\\毕设\\实现代码\\FedAvg\\algorithms\\..\\algorithms\\bp_nn.py:31: FutureWarning: The default value of numeric_only in DataFrame.mean is deprecated. In a future version, it will default to False. In addition, specifying 'numeric_only=None' is deprecated. Select only valid columns or specify the value of numeric_only to silence this warning.\n",
      "  df.fillna(df.mean(), inplace=True)\n"
     ]
    },
    {
     "name": "stdout",
     "output_type": "stream",
     "text": [
      "epoch 019 train_loss 0.00230096 val_loss 0.00448139\n",
      "training...\n",
      "data processing...\n"
     ]
    },
    {
     "name": "stderr",
     "output_type": "stream",
     "text": [
      "  0%|          | 0/20 [00:00<?, ?it/s]"
     ]
    },
    {
     "name": "stdout",
     "output_type": "stream",
     "text": [
      "epoch 000 train_loss 0.00833720 val_loss 0.00530284\n",
      "epoch 001 train_loss 0.00823878 val_loss 0.00506054\n",
      "epoch 002 train_loss 0.00814747 val_loss 0.00489613\n",
      "epoch 003 train_loss 0.00807593 val_loss 0.00477513\n",
      "epoch 004 train_loss 0.00802056 val_loss 0.00468194\n",
      "epoch 005 train_loss 0.00797744 val_loss 0.00460780\n",
      "epoch 006 train_loss 0.00794368 val_loss 0.00454729\n",
      "epoch 007 train_loss 0.00791718 val_loss 0.00449686\n",
      "epoch 008 train_loss 0.00789638 val_loss 0.00445408\n"
     ]
    },
    {
     "name": "stderr",
     "output_type": "stream",
     "text": [
      " 50%|█████     | 10/20 [00:00<00:00, 96.41it/s]"
     ]
    },
    {
     "name": "stdout",
     "output_type": "stream",
     "text": [
      "epoch 009 train_loss 0.00788012 val_loss 0.00441721\n",
      "epoch 010 train_loss 0.00786752 val_loss 0.00438498\n",
      "epoch 011 train_loss 0.00785788 val_loss 0.00435646\n",
      "epoch 012 train_loss 0.00785065 val_loss 0.00433089\n",
      "epoch 013 train_loss 0.00784539 val_loss 0.00430774\n",
      "epoch 014 train_loss 0.00784176 val_loss 0.00428653\n"
     ]
    },
    {
     "name": "stderr",
     "output_type": "stream",
     "text": [
      "100%|██████████| 20/20 [00:00<00:00, 95.33it/s]"
     ]
    },
    {
     "name": "stdout",
     "output_type": "stream",
     "text": [
      "epoch 015 train_loss 0.00783945 val_loss 0.00426693\n",
      "epoch 016 train_loss 0.00783825 val_loss 0.00424865\n",
      "epoch 017 train_loss 0.00783794 val_loss 0.00423146\n",
      "epoch 018 train_loss 0.00783838 val_loss 0.00421517\n",
      "epoch 019 train_loss 0.00783942 val_loss 0.00419962\n"
     ]
    },
    {
     "name": "stderr",
     "output_type": "stream",
     "text": [
      "100%|██████████| 20/20 [00:00<00:00, 95.21it/s]\n",
      "f:\\毕设\\实现代码\\FedAvg\\algorithms\\..\\algorithms\\bp_nn.py:31: FutureWarning: The default value of numeric_only in DataFrame.mean is deprecated. In a future version, it will default to False. In addition, specifying 'numeric_only=None' is deprecated. Select only valid columns or specify the value of numeric_only to silence this warning.\n",
      "  df.fillna(df.mean(), inplace=True)\n"
     ]
    },
    {
     "name": "stdout",
     "output_type": "stream",
     "text": [
      "training...\n",
      "data processing...\n"
     ]
    },
    {
     "name": "stderr",
     "output_type": "stream",
     "text": [
      "  0%|          | 0/20 [00:00<?, ?it/s]"
     ]
    },
    {
     "name": "stdout",
     "output_type": "stream",
     "text": [
      "epoch 000 train_loss 0.00508412 val_loss 0.01639460\n",
      "epoch 001 train_loss 0.00500582 val_loss 0.01634213\n",
      "epoch 002 train_loss 0.00495274 val_loss 0.01630262\n",
      "epoch 003 train_loss 0.00491075 val_loss 0.01627203\n",
      "epoch 004 train_loss 0.00487550 val_loss 0.01624757\n",
      "epoch 005 train_loss 0.00484499 val_loss 0.01622761\n",
      "epoch 006 train_loss 0.00481808 val_loss 0.01621107\n",
      "epoch 007 train_loss 0.00479403 val_loss 0.01619721\n",
      "epoch 008 train_loss 0.00477233 val_loss 0.01618546\n"
     ]
    },
    {
     "name": "stderr",
     "output_type": "stream",
     "text": [
      " 50%|█████     | 10/20 [00:00<00:00, 95.44it/s]"
     ]
    },
    {
     "name": "stdout",
     "output_type": "stream",
     "text": [
      "epoch 009 train_loss 0.00475258 val_loss 0.01617538\n",
      "epoch 010 train_loss 0.00473450 val_loss 0.01616662\n",
      "epoch 011 train_loss 0.00471786 val_loss 0.01615894\n",
      "epoch 012 train_loss 0.00470248 val_loss 0.01615211\n",
      "epoch 013 train_loss 0.00468822 val_loss 0.01614598\n",
      "epoch 014 train_loss 0.00467494 val_loss 0.01614044\n"
     ]
    },
    {
     "name": "stderr",
     "output_type": "stream",
     "text": [
      "100%|██████████| 20/20 [00:00<00:00, 94.94it/s]"
     ]
    },
    {
     "name": "stdout",
     "output_type": "stream",
     "text": [
      "epoch 015 train_loss 0.00466254 val_loss 0.01613538\n",
      "epoch 016 train_loss 0.00465093 val_loss 0.01613074\n",
      "epoch 017 train_loss 0.00464004 val_loss 0.01612645\n",
      "epoch 018 train_loss 0.00462980 val_loss 0.01612247\n",
      "epoch 019 train_loss 0.00462016 val_loss 0.01611876\n"
     ]
    },
    {
     "name": "stderr",
     "output_type": "stream",
     "text": [
      "100%|██████████| 20/20 [00:00<00:00, 94.84it/s]\n",
      "f:\\毕设\\实现代码\\FedAvg\\algorithms\\..\\algorithms\\bp_nn.py:31: FutureWarning: The default value of numeric_only in DataFrame.mean is deprecated. In a future version, it will default to False. In addition, specifying 'numeric_only=None' is deprecated. Select only valid columns or specify the value of numeric_only to silence this warning.\n",
      "  df.fillna(df.mean(), inplace=True)\n"
     ]
    },
    {
     "name": "stdout",
     "output_type": "stream",
     "text": [
      "training...\n",
      "data processing...\n"
     ]
    },
    {
     "name": "stderr",
     "output_type": "stream",
     "text": [
      "  0%|          | 0/20 [00:00<?, ?it/s]"
     ]
    },
    {
     "name": "stdout",
     "output_type": "stream",
     "text": [
      "epoch 000 train_loss 0.00486654 val_loss 0.00703024\n"
     ]
    },
    {
     "name": "stderr",
     "output_type": "stream",
     "text": [
      " 50%|█████     | 10/20 [00:00<00:00, 95.47it/s]"
     ]
    },
    {
     "name": "stdout",
     "output_type": "stream",
     "text": [
      "epoch 001 train_loss 0.00476797 val_loss 0.00696587\n",
      "epoch 002 train_loss 0.00470252 val_loss 0.00693571\n",
      "epoch 003 train_loss 0.00466028 val_loss 0.00693080\n",
      "epoch 004 train_loss 0.00463130 val_loss 0.00694067\n",
      "epoch 005 train_loss 0.00460982 val_loss 0.00695734\n",
      "epoch 006 train_loss 0.00459274 val_loss 0.00697600\n",
      "epoch 007 train_loss 0.00457843 val_loss 0.00699407\n",
      "epoch 008 train_loss 0.00456600 val_loss 0.00701034\n",
      "epoch 009 train_loss 0.00455495 val_loss 0.00702437\n",
      "epoch 010 train_loss 0.00454502 val_loss 0.00703613\n",
      "epoch 011 train_loss 0.00453605 val_loss 0.00704578\n",
      "epoch 012 train_loss 0.00452794 val_loss 0.00705359\n",
      "epoch 013 train_loss 0.00452062 val_loss 0.00705982\n",
      "epoch 014 train_loss 0.00451403 val_loss 0.00706475\n",
      "epoch 015 train_loss 0.00450812 val_loss 0.00706860\n",
      "epoch 016 train_loss 0.00450283 val_loss 0.00707159\n",
      "epoch 017 train_loss 0.00449813 val_loss 0.00707389\n",
      "epoch 018 train_loss 0.00449396 val_loss 0.00707564\n"
     ]
    },
    {
     "name": "stderr",
     "output_type": "stream",
     "text": [
      "100%|██████████| 20/20 [00:00<00:00, 95.00it/s]\n",
      "f:\\毕设\\实现代码\\FedAvg\\algorithms\\..\\algorithms\\bp_nn.py:31: FutureWarning: The default value of numeric_only in DataFrame.mean is deprecated. In a future version, it will default to False. In addition, specifying 'numeric_only=None' is deprecated. Select only valid columns or specify the value of numeric_only to silence this warning.\n",
      "  df.fillna(df.mean(), inplace=True)\n",
      "f:\\毕设\\实现代码\\FedAvg\\algorithms\\..\\algorithms\\bp_nn.py:31: FutureWarning: The default value of numeric_only in DataFrame.mean is deprecated. In a future version, it will default to False. In addition, specifying 'numeric_only=None' is deprecated. Select only valid columns or specify the value of numeric_only to silence this warning.\n",
      "  df.fillna(df.mean(), inplace=True)\n"
     ]
    },
    {
     "name": "stdout",
     "output_type": "stream",
     "text": [
      "epoch 019 train_loss 0.00449026 val_loss 0.00707696\n",
      "Task1_W_Zone1\n",
      "data processing...\n",
      "mae: 0.20787641855647404 rmse: 0.2836560807251283\n",
      "Task1_W_Zone2\n",
      "data processing...\n",
      "mae: 0.1631928286850088 rmse: 0.21530131283252676\n",
      "Task1_W_Zone3\n",
      "data processing...\n"
     ]
    },
    {
     "name": "stderr",
     "output_type": "stream",
     "text": [
      "f:\\毕设\\实现代码\\FedAvg\\algorithms\\..\\algorithms\\bp_nn.py:31: FutureWarning: The default value of numeric_only in DataFrame.mean is deprecated. In a future version, it will default to False. In addition, specifying 'numeric_only=None' is deprecated. Select only valid columns or specify the value of numeric_only to silence this warning.\n",
      "  df.fillna(df.mean(), inplace=True)\n"
     ]
    },
    {
     "name": "stdout",
     "output_type": "stream",
     "text": [
      "mae: 0.25302591438114586 rmse: 0.31560022516738123\n",
      "Task1_W_Zone4\n",
      "data processing...\n",
      "mae: 0.2579201158295987 rmse: 0.3388300829476072\n",
      "Task1_W_Zone5\n",
      "data processing...\n",
      "mae: 0.2819522945765929 rmse: 0.34936880606558746\n",
      "Task1_W_Zone6\n",
      "data processing...\n"
     ]
    },
    {
     "name": "stderr",
     "output_type": "stream",
     "text": [
      "f:\\毕设\\实现代码\\FedAvg\\algorithms\\..\\algorithms\\bp_nn.py:31: FutureWarning: The default value of numeric_only in DataFrame.mean is deprecated. In a future version, it will default to False. In addition, specifying 'numeric_only=None' is deprecated. Select only valid columns or specify the value of numeric_only to silence this warning.\n",
      "  df.fillna(df.mean(), inplace=True)\n",
      "f:\\毕设\\实现代码\\FedAvg\\algorithms\\..\\algorithms\\bp_nn.py:31: FutureWarning: The default value of numeric_only in DataFrame.mean is deprecated. In a future version, it will default to False. In addition, specifying 'numeric_only=None' is deprecated. Select only valid columns or specify the value of numeric_only to silence this warning.\n",
      "  df.fillna(df.mean(), inplace=True)\n",
      "f:\\毕设\\实现代码\\FedAvg\\algorithms\\..\\algorithms\\bp_nn.py:31: FutureWarning: The default value of numeric_only in DataFrame.mean is deprecated. In a future version, it will default to False. In addition, specifying 'numeric_only=None' is deprecated. Select only valid columns or specify the value of numeric_only to silence this warning.\n",
      "  df.fillna(df.mean(), inplace=True)\n"
     ]
    },
    {
     "name": "stdout",
     "output_type": "stream",
     "text": [
      "mae: 0.28508232366263137 rmse: 0.3569504344785472\n",
      "Task1_W_Zone7\n",
      "data processing...\n"
     ]
    },
    {
     "name": "stderr",
     "output_type": "stream",
     "text": [
      "f:\\毕设\\实现代码\\FedAvg\\algorithms\\..\\algorithms\\bp_nn.py:31: FutureWarning: The default value of numeric_only in DataFrame.mean is deprecated. In a future version, it will default to False. In addition, specifying 'numeric_only=None' is deprecated. Select only valid columns or specify the value of numeric_only to silence this warning.\n",
      "  df.fillna(df.mean(), inplace=True)\n"
     ]
    },
    {
     "name": "stdout",
     "output_type": "stream",
     "text": [
      "mae: 0.19210194187173224 rmse: 0.2529320956923054\n",
      "Task1_W_Zone8\n",
      "data processing...\n",
      "mae: 0.1948236508404753 rmse: 0.2616800802476734\n",
      "Task1_W_Zone9\n",
      "data processing...\n"
     ]
    },
    {
     "name": "stderr",
     "output_type": "stream",
     "text": [
      "f:\\毕设\\实现代码\\FedAvg\\algorithms\\..\\algorithms\\bp_nn.py:31: FutureWarning: The default value of numeric_only in DataFrame.mean is deprecated. In a future version, it will default to False. In addition, specifying 'numeric_only=None' is deprecated. Select only valid columns or specify the value of numeric_only to silence this warning.\n",
      "  df.fillna(df.mean(), inplace=True)\n",
      "f:\\毕设\\实现代码\\FedAvg\\algorithms\\..\\algorithms\\bp_nn.py:31: FutureWarning: The default value of numeric_only in DataFrame.mean is deprecated. In a future version, it will default to False. In addition, specifying 'numeric_only=None' is deprecated. Select only valid columns or specify the value of numeric_only to silence this warning.\n",
      "  df.fillna(df.mean(), inplace=True)\n"
     ]
    },
    {
     "name": "stdout",
     "output_type": "stream",
     "text": [
      "mae: 0.2103018468207215 rmse: 0.2707334882243774\n",
      "Task1_W_Zone10\n",
      "data processing...\n",
      "mae: 0.25128443075937873 rmse: 0.31826369651645525\n"
     ]
    },
    {
     "name": "stderr",
     "output_type": "stream",
     "text": [
      "f:\\毕设\\实现代码\\FedAvg\\algorithms\\..\\algorithms\\bp_nn.py:31: FutureWarning: The default value of numeric_only in DataFrame.mean is deprecated. In a future version, it will default to False. In addition, specifying 'numeric_only=None' is deprecated. Select only valid columns or specify the value of numeric_only to silence this warning.\n",
      "  df.fillna(df.mean(), inplace=True)\n"
     ]
    }
   ],
   "source": [
    "if __name__ == '__main__':\n",
    "    main()"
   ]
  },
  {
   "cell_type": "code",
   "execution_count": null,
   "id": "02cc653e",
   "metadata": {},
   "outputs": [],
   "source": []
  }
 ],
 "metadata": {
  "kernelspec": {
   "display_name": "Python 3 (ipykernel)",
   "language": "python",
   "name": "python3"
  },
  "language_info": {
   "codemirror_mode": {
    "name": "ipython",
    "version": 3
   },
   "file_extension": ".py",
   "mimetype": "text/x-python",
   "name": "python",
   "nbconvert_exporter": "python",
   "pygments_lexer": "ipython3",
   "version": "3.9.13"
  },
  "vscode": {
   "interpreter": {
    "hash": "478128ae43f7d354376720cf6b7e159a1b2d9bc47fdfaa09abc108617cb01ee1"
   }
  }
 },
 "nbformat": 4,
 "nbformat_minor": 5
}
